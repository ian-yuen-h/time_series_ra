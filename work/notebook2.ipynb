{
 "cells": [
  {
   "cell_type": "code",
   "execution_count": 2,
   "source": [
    "import numpy as np\n",
    "import matplotlib.pyplot as plt\n",
    "import matplotlib\n",
    "import pandas as pd\n",
    "from time import time\n"
   ],
   "outputs": [],
   "metadata": {}
  },
  {
   "cell_type": "code",
   "execution_count": 5,
   "source": [
    "from kNN import kNN, kNN_with_pq_NCC, kNN_with_pq_SINK, MAP, avg_recall_measure\n",
    "from time import time\n",
    "from Causal_inference import check_with_original\n",
    "import Representation"
   ],
   "outputs": [],
   "metadata": {}
  },
  {
   "cell_type": "markdown",
   "source": [
    "Importing datasets"
   ],
   "metadata": {}
  },
  {
   "cell_type": "code",
   "execution_count": 8,
   "source": [
    "import os\n",
    "cwd = os.getcwd()\n",
    "print(cwd)"
   ],
   "outputs": [
    {
     "output_type": "stream",
     "name": "stdout",
     "text": [
      "/Users/ianyuen/Documents/GitHub/RA_time_series/time_series_ra/RepLearningEngine\n"
     ]
    }
   ],
   "metadata": {}
  },
  {
   "cell_type": "code",
   "execution_count": 14,
   "source": [
    "dataset_names = [\"FaceFour\", \"InlineSkate\", \"PickupGestureWiimoteZ\", \"SemgHandMovementCh2\"]\n",
    "\n",
    "to_import =  [\"mixsd0.1_0.1_causaldb\", \"mixsd0.1_0.05_causaldb\", \"mixsd0.2_0.1_causaldb\", \"mixsd0.2_0.05_causaldb\", \"randomsd0.1_effectdb\", \"randomsd0.2_effectdb\", \"rwalksd0.1_effectdb\", \"rwalksd0.05_effectdb\"]\n",
    "\n",
    "path = cwd +\"/test_files/\"\n",
    "dataset_dict = {}\n",
    "\n",
    "counter = 0\n",
    "for each in dataset_names:\n",
    "    dataset_dict[each] = {}\n",
    "    dataset_dict[each][\"truemat\"] = np.load(str(path+each+\"_split_truemat.npy\"))\n",
    "    print(dataset_dict[each][\"truemat\"])\n",
    "    dataset_dict[each][\"causaldb\"] = np.load(str(path+ each+\"_causaldb.npy\"))\n",
    "    for import_type in to_import:\n",
    "        dataset_dict[each][import_type] = np.load(str(path+each+\"_\"+import_type+\".npy\"))\n",
    "        # if counter == 0:\n",
    "        #     print(dataset_dict[each][import_type].shape)\n",
    "        #     # counter += 1\n",
    "\n"
   ],
   "outputs": [
    {
     "output_type": "stream",
     "name": "stdout",
     "text": [
      "(112, 350)\n",
      "(112, 350)\n",
      "(112, 350)\n",
      "(112, 350)\n",
      "(112, 350)\n",
      "(112, 350)\n",
      "(112, 350)\n",
      "(112, 350)\n",
      "(650, 1882)\n",
      "(650, 1882)\n",
      "(650, 1882)\n",
      "(650, 1882)\n",
      "(650, 1882)\n",
      "(650, 1882)\n",
      "(650, 1882)\n",
      "(650, 1882)\n",
      "(100, 361)\n",
      "(100, 361)\n",
      "(100, 361)\n",
      "(100, 361)\n",
      "(100, 361)\n",
      "(100, 361)\n",
      "(100, 361)\n",
      "(100, 361)\n",
      "(900, 1500)\n",
      "(900, 1500)\n",
      "(900, 1500)\n",
      "(900, 1500)\n",
      "(900, 1500)\n",
      "(900, 1500)\n",
      "(900, 1500)\n",
      "(900, 1500)\n"
     ]
    }
   ],
   "metadata": {}
  },
  {
   "cell_type": "markdown",
   "source": [
    "Extract kNN"
   ],
   "metadata": {}
  },
  {
   "cell_type": "code",
   "execution_count": null,
   "source": [
    "import sklearn\n",
    "import tigramite\n",
    "from tigramite import data_processing as pp\n",
    "from tigramite import plotting as tp\n",
    "from tigramite.pcmci import PCMCI\n",
    "from tigramite.independence_tests import ParCorr, GPDC, CMIknn, CMIsymb"
   ],
   "outputs": [],
   "metadata": {}
  },
  {
   "cell_type": "code",
   "execution_count": null,
   "source": [
    " # brute_results, result_by_neighbor = general_test(causal_db, effect_db, trueMat, best_gamma=best_gamma,\n",
    "    #                                                  neighbor_param=[10, 100], lag=lag, pval=pval)\n",
    "\n",
    "best_gamma = 5\n",
    "neighbor_param =[2, 5, 10, 100]\n",
    "lag = 2\n",
    "pval = 0.05\n",
    "\n",
    "counter = 0\n",
    "for each in dataset_names:\n",
    "    causal = dataset_dict[each][\"causaldb\"]\n",
    "    representation = Representation.GRAIL(kernel=\"SINK\", d = 100, gamma = best_gamma)\n",
    "    trueMat = dataset_dict[each][\"truemat\"]\n",
    "\n",
    "    for import_type in to_import:\n",
    "        effect = dataset_dict[each][import_type]\n",
    "        n1 = causal.shape[0]\n",
    "        n2 = effect.shape[0]\n",
    "        TRAIN_TS, TEST_TS = representation.get_rep_train_test(effect, causal)\n",
    "        for neighbor_num in neighbor_param:\n",
    "            if neighbor_num >= n2:\n",
    "                continue\n",
    "            neighbors, _, _ = kNN(TRAIN_TS, TEST_TS, method=\"ED\", k=neighbor_num, representation=None, use_exact_rep=True,\n",
    "                                    pq_method=None) #changed pq\n",
    "\n",
    "            exact_neighbors, _, _ = kNN(effect, causal, method=\"SINK\", k=neighbor_num, representation=None, gamma_val=best_gamma)\n",
    "\n",
    "            knn_map_accuracy = MAP(exact_neighbors, neighbors)\n",
    "            knn_recall_accuracy = avg_recall_measure(exact_neighbors, neighbors)\n",
    "\n",
    "            print(knn_recall_accuracy, knn_map_accuracy)\n",
    "            var_names =  np.arange(len(noisydata[3]))\n",
    "\n",
    "            #repeat below for GRAIL\n",
    "            t = time()\n",
    "            for i in range(n1):\n",
    "                for j in neighbors[i]:\n",
    "                    df = pp.DataFrame(sample_set_data, datatime = np.arange(len(noisydata[3])),var_names=var_names)\n",
    "                    # tp.plot_timeseries(df)\n",
    "                    parcorr = ParCorr(significance='analytic')\n",
    "                    pcmci = PCMCI(\n",
    "                        dataframe=df, \n",
    "                        cond_ind_test=parcorr,\n",
    "                        verbosity=1)\n",
    "                    # correlations = pcmci.get_lagged_dependencies(tau_max=20, val_only=True)['val_matrix']\n",
    "                    # lag_func_matrix = tp.plot_lagfuncs(val_matrix=correlations, setup_args={'var_names':var_names, \n",
    "                    #                             'x_base':5, 'y_base':.5}); plt.show()\n",
    "                    pcmci.verbosity = 1\n",
    "                    results = pcmci.run_pcmci(tau_max=8, pc_alpha=None)\n",
    "                    print(\"p-values\")\n",
    "                    print (results['p_matrix'].round(3))\n",
    "                    print(\"MCI partial correlations\")\n",
    "                    print (results['val_matrix'].round(2))\n",
    "                    #plotting\n",
    "                    q_matrix = pcmci.get_corrected_pvalues(p_matrix=results['p_matrix'], tau_max=8, fdr_method='fdr_bh')\n",
    "                    pcmci.print_significant_links(\n",
    "                            p_matrix = results['p_matrix'], \n",
    "                            q_matrix = q_matrix,\n",
    "                            val_matrix = results['val_matrix'],\n",
    "                            alpha_level = 0.01)\n",
    "                    link_matrix = pcmci.return_significant_links(pq_matrix=q_matrix,\n",
    "                        val_matrix=results['val_matrix'], alpha_level=0.01)['link_matrix']\n",
    "                    #checking results\n",
    "                    check_results = check_with_original(trueMat, results['val_matrix'].round(2))\n",
    "                    #do for exact neighbors\n",
    "                    #do for GRAIL neighbors\n",
    "                            #get pairs, call PCMCI, get the matrix back, p-values\n",
    "                            grailMat[i,j] = granger_causality(effect[j], causal[i], lag, pval=pval)\n",
    "                            #repeat for PCMCI-plus\n",
    "            prunedtime = time() - t\n",
    "\n",
    "            #saving results, dump into json?\n",
    "            result_by_neighbor[neighbor_num] = {'precision' : check_results[0], 'recall' : check_results[1],\n",
    "                                            'fscore' : check_results[2], 'runtime' : prunedtime,'map' : knn_map_accuracy,\n",
    "                                            'knn_recall' : knn_recall_accuracy}"
   ],
   "outputs": [],
   "metadata": {}
  },
  {
   "cell_type": "markdown",
   "source": [
    "Extract kNN with GRAIL"
   ],
   "metadata": {}
  },
  {
   "cell_type": "code",
   "execution_count": null,
   "source": [
    "#representation = Representation.GRAIL(kernel=\"SINK\", d = 100, gamma = best_gamma)\n",
    "#TRAIN_TS, TEST_TS = representation.get_rep_train_test(Effect_TS, Cause_TS)"
   ],
   "outputs": [],
   "metadata": {}
  },
  {
   "cell_type": "markdown",
   "source": [
    "Checking"
   ],
   "metadata": {}
  },
  {
   "cell_type": "code",
   "execution_count": null,
   "source": [
    "    # brute_res = check_with_original(trueMat, bruteMat)\n",
    "    # brute_results = {'precision' : brute_res[0], 'recall' : brute_res[1],\n",
    "    #                                         'fscore' : brute_res[2], 'runtime' : bruteTime}"
   ],
   "outputs": [],
   "metadata": {}
  },
  {
   "cell_type": "markdown",
   "source": [
    "1: PCMCI"
   ],
   "metadata": {}
  },
  {
   "cell_type": "code",
   "execution_count": null,
   "source": [
    "import sklearn\n",
    "import tigramite\n",
    "from tigramite import data_processing as pp\n",
    "from tigramite import plotting as tp\n",
    "from tigramite.pcmci import PCMCI\n",
    "from tigramite.independence_tests import ParCorr, GPDC, CMIknn, CMIsymb"
   ],
   "outputs": [],
   "metadata": {}
  },
  {
   "cell_type": "markdown",
   "source": [
    "Initialize PCMCI Object"
   ],
   "metadata": {}
  },
  {
   "cell_type": "code",
   "execution_count": null,
   "source": [
    "df = pp.DataFrame(sample_set_data, datatime = np.arange(len(noisydata[3])),var_names=var_names)\n",
    "tp.plot_timeseries(df)"
   ],
   "outputs": [],
   "metadata": {}
  },
  {
   "cell_type": "code",
   "execution_count": null,
   "source": [
    "parcorr = ParCorr(significance='analytic')\n",
    "pcmci = PCMCI(\n",
    "    dataframe=df, \n",
    "    cond_ind_test=parcorr,\n",
    "    verbosity=1)"
   ],
   "outputs": [],
   "metadata": {}
  },
  {
   "cell_type": "code",
   "execution_count": null,
   "source": [
    "correlations = pcmci.get_lagged_dependencies(tau_max=20, val_only=True)['val_matrix']\n",
    "lag_func_matrix = tp.plot_lagfuncs(val_matrix=correlations, setup_args={'var_names':var_names, \n",
    "                                    'x_base':5, 'y_base':.5}); plt.show()"
   ],
   "outputs": [],
   "metadata": {}
  },
  {
   "cell_type": "markdown",
   "source": [
    "Printing PCMCI p-values, correlations"
   ],
   "metadata": {}
  },
  {
   "cell_type": "code",
   "execution_count": null,
   "source": [
    "print(\"p-values\")\n",
    "print (results['p_matrix'].round(3))\n",
    "print(\"MCI partial correlations\")\n",
    "print (results['val_matrix'].round(2))"
   ],
   "outputs": [],
   "metadata": {}
  },
  {
   "cell_type": "code",
   "execution_count": null,
   "source": [
    "q_matrix = pcmci.get_corrected_pvalues(p_matrix=results['p_matrix'], tau_max=8, fdr_method='fdr_bh')\n",
    "pcmci.print_significant_links(\n",
    "        p_matrix = results['p_matrix'], \n",
    "        q_matrix = q_matrix,\n",
    "        val_matrix = results['val_matrix'],\n",
    "        alpha_level = 0.01)"
   ],
   "outputs": [],
   "metadata": {}
  },
  {
   "cell_type": "markdown",
   "source": [
    "Plotting PCMCI results"
   ],
   "metadata": {}
  },
  {
   "cell_type": "code",
   "execution_count": null,
   "source": [
    "link_matrix = pcmci.return_significant_links(pq_matrix=q_matrix,\n",
    "                        val_matrix=results['val_matrix'], alpha_level=0.01)['link_matrix']"
   ],
   "outputs": [],
   "metadata": {}
  },
  {
   "cell_type": "code",
   "execution_count": null,
   "source": [
    "import importlib\n",
    "importlib.reload(tp)\n",
    "\n",
    "# tp.plot_graph(\n",
    "#     val_matrix=results['val_matrix'],\n",
    "#     link_matrix=link_matrix,\n",
    "#     var_names=var_names,\n",
    "#     link_colorbar_label='cross-MCI',\n",
    "#     node_colorbar_label='auto-MCI',\n",
    "#     ); plt.show()"
   ],
   "outputs": [],
   "metadata": {}
  },
  {
   "cell_type": "markdown",
   "source": [
    "Checking Results"
   ],
   "metadata": {}
  },
  {
   "cell_type": "code",
   "execution_count": null,
   "source": [
    "    # brute_res = check_with_original(trueMat, bruteMat)\n",
    "    # brute_results = {'precision' : brute_res[0], 'recall' : brute_res[1],\n",
    "    #                                         'fscore' : brute_res[2], 'runtime' : bruteTime}"
   ],
   "outputs": [],
   "metadata": {}
  }
 ],
 "metadata": {
  "orig_nbformat": 4,
  "language_info": {
   "name": "python",
   "version": "3.8.3",
   "mimetype": "text/x-python",
   "codemirror_mode": {
    "name": "ipython",
    "version": 3
   },
   "pygments_lexer": "ipython3",
   "nbconvert_exporter": "python",
   "file_extension": ".py"
  },
  "kernelspec": {
   "name": "python3",
   "display_name": "Python 3.8.3 64-bit ('base': conda)"
  },
  "interpreter": {
   "hash": "184e4894e1413e250ad3380da453a1dd559a28a0a344a6060ba0fc8fdc0cdd2f"
  }
 },
 "nbformat": 4,
 "nbformat_minor": 2
}